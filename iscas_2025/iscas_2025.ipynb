{
  "nbformat": 4,
  "nbformat_minor": 0,
  "metadata": {
    "colab": {
      "provenance": [],
      "toc_visible": true
    },
    "kernelspec": {
      "name": "python3",
      "display_name": "Python 3"
    },
    "language_info": {
      "name": "python"
    }
  },
  "cells": [
    {
      "cell_type": "markdown",
      "source": [
        "# iscas_2025"
      ],
      "metadata": {
        "id": "WInLtg3HTaZ5"
      }
    },
    {
      "cell_type": "markdown",
      "source": [
        "## Setup"
      ],
      "metadata": {
        "id": "wH74ZrSYTc9M"
      }
    },
    {
      "cell_type": "code",
      "source": [
        "#!pip install qiskit qiskit-aer qiskit-ibm-runtime"
      ],
      "metadata": {
        "id": "aFO3D-Cljp5N"
      },
      "execution_count": null,
      "outputs": []
    },
    {
      "cell_type": "code",
      "source": [
        "import numpy as np\n",
        "import random\n",
        "import string\n",
        "from qiskit import QuantumCircuit, QuantumRegister, ClassicalRegister, transpile\n",
        "from qiskit.visualization import plot_histogram\n",
        "from qiskit_aer import Aer, AerSimulator\n",
        "from qiskit_ibm_runtime.fake_provider import FakeVigoV2"
      ],
      "metadata": {
        "id": "pbw8kzGdjuJ2"
      },
      "execution_count": null,
      "outputs": []
    },
    {
      "cell_type": "markdown",
      "source": [
        "## Permutation"
      ],
      "metadata": {
        "id": "f7K4ksWZThHV"
      }
    },
    {
      "cell_type": "code",
      "source": [
        "def shift_right(s):\n",
        "  \"\"\"\n",
        "  Shifts the bits of a bitstring one place to the right.\n",
        "  \"\"\"\n",
        "  return s[-1] + s[:-1]"
      ],
      "metadata": {
        "id": "9MudQKhQloj-"
      },
      "execution_count": null,
      "outputs": []
    },
    {
      "cell_type": "markdown",
      "source": [
        "## Grover"
      ],
      "metadata": {
        "id": "sadUesMhTeHZ"
      }
    },
    {
      "cell_type": "code",
      "source": [
        "def grover(n_qubits, oracle, iterations=1, theta=np.pi/2):\n",
        "  \"\"\"\n",
        "  Implements an approximate Grover search algorithm with a parameterized circuit.\n",
        "\n",
        "  Args:\n",
        "      n_qubits: The number of qubits in the circuit.\n",
        "      oracle: The oracle function that marks the solution state.\n",
        "      iterations: The number of iterations of the Grover operator.\n",
        "      theta: The angle parameter for the Grover operator.\n",
        "\n",
        "  Returns:\n",
        "      A QuantumCircuit implementing the approximate Grover search.\n",
        "  \"\"\"\n",
        "  qr = QuantumRegister(n_qubits)\n",
        "  cr = ClassicalRegister(n_qubits)\n",
        "  qc = QuantumCircuit(qr, cr)\n",
        "  # Initialization\n",
        "  for i in range(n_qubits):\n",
        "    qc.h(qr[i])\n",
        "  # Grover operator\n",
        "  for _ in range(iterations):\n",
        "    qc.append(oracle, qr)\n",
        "    # Diffusion operator\n",
        "    for i in range(n_qubits):\n",
        "      qc.h(qr[i])\n",
        "    for i in range(n_qubits):\n",
        "      qc.x(qr[i])\n",
        "    qc.h(qr[n_qubits - 1])\n",
        "    qc.mcx(list(range(n_qubits - 1)), qr[n_qubits - 1])\n",
        "    qc.h(qr[n_qubits - 1])\n",
        "    for i in range(n_qubits):\n",
        "      qc.x(qr[i])\n",
        "    for i in range(n_qubits):\n",
        "      qc.h(qr[i])\n",
        "  qc.measure(qr, cr)\n",
        "\n",
        "  return qc"
      ],
      "metadata": {
        "id": "XCPl5tuOjxr5"
      },
      "execution_count": null,
      "outputs": []
    },
    {
      "cell_type": "code",
      "source": [
        "def create_oracle(s):\n",
        "  \"\"\"\n",
        "  Creates a Grover's oracle for a specific bitstring.\n",
        "\n",
        "  Args:\n",
        "      s: The bitstring to be marked by the oracle.\n",
        "\n",
        "  Returns:\n",
        "      A QuantumCircuit representing the oracle.\n",
        "  \"\"\"\n",
        "  n_qubits = len(s)\n",
        "  qr = QuantumRegister(n_qubits)\n",
        "  qc = QuantumCircuit(qr)\n",
        "  # Apply X gates to flip qubits corresponding to '0' in the target bitstring\n",
        "  for i in range(n_qubits):\n",
        "    if s[i] == '0':\n",
        "      qc.x(qr[i])\n",
        "  # Apply multi-controlled-Z gate to flip the phase of the target state\n",
        "  qc.h(n_qubits-1)\n",
        "  qc.mcx(list(range(n_qubits-1)), n_qubits-1)\n",
        "  qc.h(n_qubits-1)\n",
        "  # Apply X gates again to revert the initial flips\n",
        "  for i in range(n_qubits):\n",
        "    if s[i] == '0':\n",
        "      qc.x(qr[i])\n",
        "\n",
        "  return qc"
      ],
      "metadata": {
        "id": "e6AH5sqhdtMl"
      },
      "execution_count": null,
      "outputs": []
    },
    {
      "cell_type": "code",
      "source": [
        "def simulate(circ,backend):\n",
        "  \"\"\"\n",
        "  Simulate a quantum circuit on a given backend.\n",
        "\n",
        "  Args:\n",
        "      circ: qiskit QuantumCircuit to be executed.\n",
        "      backend: qiskit Aer backend to run the circuit on\n",
        "\n",
        "  Returns:\n",
        "      counts of the measurement results\n",
        "  \"\"\"\n",
        "  qc = transpile(circ, backend)\n",
        "  job = backend.run(qc, shots=1024)\n",
        "  return job.result().get_counts(circ)"
      ],
      "metadata": {
        "id": "vRIJziqsj1NK"
      },
      "execution_count": null,
      "outputs": []
    },
    {
      "cell_type": "code",
      "source": [
        "def permutation_grover(t, permutation_function):\n",
        "  \"\"\"\n",
        "  Finds the original bitstring 's' given a permuted bitstring 't' and the permutation function.\n",
        "\n",
        "  Args:\n",
        "      t: The permuted bitstring.\n",
        "      permutation_function: A function that applies the permutation to a bitstring.\n",
        "\n",
        "  Returns:\n",
        "      The original bitstring 's'.\n",
        "  \"\"\"\n",
        "  n_qubits = len(t)\n",
        "  # Define the oracle that checks if a given candidate bitstring 's' produces 't' when permuted.\n",
        "  def oracle_function(candidate_s):\n",
        "    permuted_candidate = permutation_function(candidate_s)\n",
        "    return permuted_candidate == t\n",
        "\n",
        "  # Iterate through all possible bitstrings and check if they produce 't' when permuted.\n",
        "  def create_oracle_from_function(oracle_function):\n",
        "    for i in range(2**n_qubits):\n",
        "      candidate_s = bin(i)[2:].zfill(n_qubits)\n",
        "      if oracle_function(candidate_s):\n",
        "        oracle_circ = create_oracle(candidate_s)\n",
        "        return oracle_circ\n",
        "    return None\n",
        "\n",
        "  oracle_circ = create_oracle_from_function(oracle_function)\n",
        "\n",
        "  if oracle_circ is not None:\n",
        "    grover_circuit = grover(n_qubits, oracle_circ, iterations=1)\n",
        "    counts = simulate(grover_circuit, backend)\n",
        "    most_frequent_outcome = max(counts, key=counts.get)\n",
        "\n",
        "    best_iterations = 0\n",
        "    best_probability = 0\n",
        "    for iterations in range(1, int(np.sqrt(2**len(t)))):\n",
        "      grover_circuit = grover(n_qubits, oracle_circ, iterations=iterations)\n",
        "      counts = simulate(grover_circuit, backend)\n",
        "      if counts:\n",
        "        most_frequent_outcome = max(counts, key=counts.get)\n",
        "        probability = counts[most_frequent_outcome] / 1024\n",
        "        if probability > best_probability:\n",
        "          best_probability = probability\n",
        "          best_iterations = iterations\n",
        "    return most_frequent_outcome, best_iterations"
      ],
      "metadata": {
        "id": "GEv4MzgZmX6Y"
      },
      "execution_count": null,
      "outputs": []
    },
    {
      "cell_type": "code",
      "source": [
        "backend = AerSimulator()\n",
        "s = \"10000\"\n",
        "t = shift_right(s)\n",
        "s = permutation_grover(t, shift_right)[0]\n",
        "best_iterations = permutation_grover(t, shift_right)[1]\n",
        "\n",
        "print(f\"The permuted bitstring t is: {t}\")\n",
        "if s:\n",
        "  print(f\"The original bitstring s is: {s[::-1]}\")\n",
        "else:\n",
        "  print(\"No solution found.\")\n",
        "if best_iterations:\n",
        "  print(f\"The best number of Grover iterations is: {best_iterations}\")\n",
        "else:\n",
        "  print(\"No solution found.\")\n"
      ],
      "metadata": {
        "id": "YRadDqyrklP9"
      },
      "execution_count": null,
      "outputs": []
    },
    {
      "cell_type": "code",
      "source": [
        "backend = FakeVigoV2()\n",
        "s = \"10000\"\n",
        "t = shift_right(s)\n",
        "s = permutation_grover(t, shift_right)[0]\n",
        "best_iterations = permutation_grover(t, shift_right)[1]\n",
        "\n",
        "print(f\"The permuted bitstring t is: {t}\")\n",
        "if s:\n",
        "  print(f\"The original bitstring s is: {s[::-1]}\")\n",
        "else:\n",
        "  print(\"No solution found.\")\n",
        "if best_iterations:\n",
        "  print(f\"The best number of Grover iterations is: {best_iterations}\")\n",
        "else:\n",
        "  print(\"No solution found.\")"
      ],
      "metadata": {
        "id": "dJE1yM5MpZTC"
      },
      "execution_count": null,
      "outputs": []
    },
    {
      "cell_type": "markdown",
      "source": [
        "## Quantum walk"
      ],
      "metadata": {
        "id": "ABVpu-MtTtRO"
      }
    },
    {
      "cell_type": "code",
      "source": [
        "def walk(n,steps):\n",
        "  num_qubits = int(np.ceil(np.log2(n)))\n",
        "  qc = QuantumCircuit(num_qubits)\n",
        "  # Initialize the walk at 1\n",
        "  #qc.x(0)\n",
        "  # Bias angle, greater than pi/2 favors right movement more\n",
        "  theta = np.pi / 4\n",
        "  for _ in range(steps):\n",
        "    # Apply biased rotation (coin flip)\n",
        "    for qubit in range(num_qubits):\n",
        "        qc.ry(theta, qubit)\n",
        "\n",
        "    # Apply a controlled NOT to shift the walker to the next position\n",
        "    for qubit in range(num_qubits - 1):\n",
        "        qc.cx(qubit, qubit + 1)\n",
        "  qc.measure_all()\n",
        "  return qc"
      ],
      "metadata": {
        "id": "N2bgMCjLX2KY"
      },
      "execution_count": null,
      "outputs": []
    },
    {
      "cell_type": "code",
      "source": [
        "n = 5\n",
        "steps = n-1\n",
        "backend = AerSimulator()\n",
        "T = []\n",
        "for step in range(1,steps+1):\n",
        "  qc = walk(n,step)\n",
        "  counts = simulate(qc,backend)\n",
        "  if sorted(counts.items(), key=lambda item: item[1], reverse=True)[0][0] == bin(5)[2:].zfill(3):\n",
        "    T.append(step)\n",
        "print(min(T))"
      ],
      "metadata": {
        "id": "pufufojvVL2V"
      },
      "execution_count": null,
      "outputs": []
    },
    {
      "cell_type": "markdown",
      "source": [
        "## Total variation distance"
      ],
      "metadata": {
        "id": "rodyNq8jIri5"
      }
    },
    {
      "cell_type": "code",
      "source": [
        "s = \"10000\"\n",
        "t = shift_right(s)\n",
        "qc = grover(5,create_oracle(t))\n",
        "counts =  simulate(qc,AerSimulator())\n",
        "noisy_counts = simulate(qc,FakeVigoV2())"
      ],
      "metadata": {
        "id": "oZDXhZQgwhFu"
      },
      "execution_count": null,
      "outputs": []
    },
    {
      "cell_type": "code",
      "source": [
        "difference_counts = {}\n",
        "for key in counts:\n",
        "  if key in noisy_counts:\n",
        "    difference_counts[key] = counts[key] - noisy_counts[key]\n",
        "  else:\n",
        "    difference_counts[key] = counts[key]"
      ],
      "metadata": {
        "id": "axu5zjwxLXXH"
      },
      "execution_count": null,
      "outputs": []
    },
    {
      "cell_type": "code",
      "source": [
        "total_variation_distance = sum(abs(value) for value in difference_counts.values())\n",
        "print(total_variation_distance/1024)"
      ],
      "metadata": {
        "id": "OvewQAaZNGKm"
      },
      "execution_count": null,
      "outputs": []
    },
    {
      "cell_type": "markdown",
      "source": [
        "## Cesar's cipher"
      ],
      "metadata": {
        "id": "dw9v1IaKeeOe"
      }
    },
    {
      "cell_type": "code",
      "source": [
        "def generate_random_string(length):\n",
        "  \"\"\"\n",
        "  Generates a random string of lowercase letters.\n",
        "\n",
        "  Args:\n",
        "      length (int): The desired length of the random string.\n",
        "\n",
        "  Returns:\n",
        "      str: A random string of lowercase letters with the specified length.\n",
        "  \"\"\"\n",
        "  letters = string.ascii_lowercase\n",
        "  return ''.join(random.choice(letters) for i in range(length))"
      ],
      "metadata": {
        "id": "_aDf5UQclcge"
      },
      "execution_count": null,
      "outputs": []
    },
    {
      "cell_type": "code",
      "source": [
        "def cesars_cipher(text, shift_amount):\n",
        "  \"\"\"\n",
        "  Encrypts or decrypts a text using a Caesar's cipher based on the shift_right function.\n",
        "\n",
        "  Args:\n",
        "      text: The text to be encrypted or decrypted.\n",
        "      shift_amount: The number of positions to shift each character.\n",
        "\n",
        "  Returns:\n",
        "      The encrypted or decrypted text.\n",
        "  \"\"\"\n",
        "  result = \"\"\n",
        "  for char in text:\n",
        "    if char.isalpha():\n",
        "      start = ord('a') if char.islower() else ord('A')\n",
        "      shifted_char_ord = (ord(char) - start + shift_amount) % 26 + start\n",
        "      result += chr(shifted_char_ord)\n",
        "    else:\n",
        "      result += char\n",
        "  return result"
      ],
      "metadata": {
        "id": "gUklZIFjem_5"
      },
      "execution_count": null,
      "outputs": []
    },
    {
      "cell_type": "markdown",
      "source": [
        "### Classical frequency attack"
      ],
      "metadata": {
        "id": "UVs2B83dncLM"
      }
    },
    {
      "cell_type": "code",
      "source": [
        "def frequency_analysis(ciphertext, top_letter=\"e\"):\n",
        "  \"\"\"\n",
        "  Performs frequency analysis on a given ciphertext and attempts to decrypt it using letter frequency.\n",
        "\n",
        "  Args:\n",
        "      ciphertext (str): The encrypted text to analyze and decrypt.\n",
        "      top_letter (str, optional): The letter assumed to be the most frequent in the plaintext.\n",
        "                                  Defaults to 'e', which is the most common letter in English.\n",
        "\n",
        "  Returns:\n",
        "      str: The decrypted plaintext obtained by shifting the characters of the ciphertext.\n",
        "  \"\"\"\n",
        "  letter_frequencies = {}\n",
        "  for letter in ciphertext:\n",
        "    if letter.isalpha():\n",
        "      letter = letter.lower()\n",
        "      if letter in letter_frequencies:\n",
        "        letter_frequencies[letter] += 1\n",
        "      else:\n",
        "        letter_frequencies[letter] = 1\n",
        "\n",
        "  most_frequent_letter = max(letter_frequencies, key=letter_frequencies.get)\n",
        "  shift_amount = ord(most_frequent_letter) - ord(top_letter)\n",
        "\n",
        "  plaintext = \"\"\n",
        "  for letter in ciphertext:\n",
        "    if letter.isalpha():\n",
        "      start = ord('a') if letter.islower() else ord('A')\n",
        "      shifted_letter_ord = (ord(letter) - start - shift_amount) % 26 + start\n",
        "      plaintext += chr(shifted_letter_ord)\n",
        "    else:\n",
        "      plaintext += letter\n",
        "\n",
        "  return plaintext"
      ],
      "metadata": {
        "id": "T0YCyCHpmQuP"
      },
      "execution_count": null,
      "outputs": []
    },
    {
      "cell_type": "code",
      "source": [
        "key = 1\n",
        "N = 100\n",
        "text_list = [generate_random_string(5) for _ in range(N)]\n",
        "when_correct = 0"
      ],
      "metadata": {
        "id": "Wb0wQGxiibZj"
      },
      "execution_count": null,
      "outputs": []
    },
    {
      "cell_type": "code",
      "source": [
        "for text in text_list:\n",
        "  encrypted_text = cesars_cipher(text, key)\n",
        "  decrypted_text = frequency_analysis(encrypted_text)\n",
        "  if decrypted_text == text:\n",
        "    when_correct += 1\n",
        "when_correct/N"
      ],
      "metadata": {
        "id": "Gm6PSvZKGaaH"
      },
      "execution_count": null,
      "outputs": []
    },
    {
      "cell_type": "markdown",
      "source": [
        "### Quantum walk attack"
      ],
      "metadata": {
        "id": "YLqpl_lgnfkn"
      }
    },
    {
      "cell_type": "code",
      "source": [
        "def generate_random_binary_string(length):\n",
        "  \"\"\"\n",
        "  Generates a random binary string of a specified length.\n",
        "\n",
        "  Args:\n",
        "      length: The desired length of the binary string.\n",
        "\n",
        "  Returns:\n",
        "      A random binary string.\n",
        "  \"\"\"\n",
        "  return ''.join(random.choice(['0', '1']) for _ in range(length))"
      ],
      "metadata": {
        "id": "J1howhB1G73C"
      },
      "execution_count": null,
      "outputs": []
    },
    {
      "cell_type": "code",
      "source": [
        "key = 1\n",
        "N = 100\n",
        "string_list = [generate_random_binary_string(5) for _ in range(N)]"
      ],
      "metadata": {
        "id": "gUkoeXLsGx24"
      },
      "execution_count": null,
      "outputs": []
    },
    {
      "cell_type": "code",
      "source": [
        "n = 5\n",
        "steps = n-1\n",
        "backend = AerSimulator()\n",
        "when_correct = 0\n",
        "T = []\n",
        "for string in string_list:\n",
        "  for step in range(1,steps+1):\n",
        "    qc = walk(2**n,step)\n",
        "    counts = simulate(qc,backend)\n",
        "    string_perm = shift_right(string)\n",
        "    string_rec = sorted(counts.items(), key=lambda item: item[1], reverse=True)[0][0]\n",
        "    #print(string_perm, string_rec)\n",
        "    if string_perm == string_rec:\n",
        "      T.append(step)\n",
        "  if T != []:\n",
        "    t = min(T)\n",
        "  else:\n",
        "    t = 0\n",
        "  #print(t)\n",
        "  if string_perm == string_rec:\n",
        "    when_correct += 1\n",
        "when_correct/N"
      ],
      "metadata": {
        "id": "ZQWOwOw3HgUa"
      },
      "execution_count": null,
      "outputs": []
    }
  ]
}